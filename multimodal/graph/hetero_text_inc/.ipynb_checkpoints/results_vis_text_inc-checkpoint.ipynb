{
 "cells": [
  {
   "cell_type": "code",
   "execution_count": 1,
   "id": "c8db7d06",
   "metadata": {},
   "outputs": [],
   "source": [
    "%load_ext autoreload\n",
    "%autoreload 2"
   ]
  },
  {
   "cell_type": "code",
   "execution_count": 2,
   "id": "49f3f0d6",
   "metadata": {},
   "outputs": [],
   "source": [
    "import json, random, time, os, base64\n",
    "import numpy as np\n",
    "from pprint import pprint\n",
    "from collections import Counter, defaultdict\n",
    "import cv2\n",
    "import matplotlib.pyplot as plt\n",
    "import pandas as pd"
   ]
  },
  {
   "cell_type": "code",
   "execution_count": 3,
   "id": "9b918278",
   "metadata": {},
   "outputs": [
    {
     "name": "stdout",
     "output_type": "stream",
     "text": [
      "Counter({'train': 36766, 'val': 4966})\n",
      "41732\n",
      "Counter({'text': 20267, 'YesNo': 7320, 'Others': 5412, 'choose': 4220, 'number': 2118, 'color': 1830, 'shape': 565})\n"
     ]
    }
   ],
   "source": [
    "dataset = json.load(open(\"/project_data/ramanan/shubham/project/data/WebQA_train_val.json\", \"r\"))\n",
    "#dataset = json.load(open(\"/project_data/ramanan/shubham/project/data/WebQA_test.json\", \"r\"))\n",
    "\n",
    "print(Counter([dataset[k]['split'] for k in dataset]))\n",
    "print(len(set([dataset[k]['Guid'] for k in dataset])))\n",
    "print(Counter([dataset[k]['Qcate'] for k in dataset]))\n"
   ]
  },
  {
   "cell_type": "code",
   "execution_count": 4,
   "id": "610007da",
   "metadata": {},
   "outputs": [
    {
     "name": "stdout",
     "output_type": "stream",
     "text": [
      "389750\n"
     ]
    }
   ],
   "source": [
    "with open(\"/project_data/ramanan/shubham/project/data/imgs.lineidx\", \"r\") as fp_lineidx:\n",
    "    lineidx = [int(i.strip()) for i in fp_lineidx.readlines()]\n",
    "print(len(lineidx))"
   ]
  },
  {
   "cell_type": "code",
   "execution_count": 5,
   "id": "2fcca530",
   "metadata": {},
   "outputs": [],
   "source": [
    "query = \"shape\"\n"
   ]
  },
  {
   "cell_type": "code",
   "execution_count": 7,
   "id": "b4e4c195",
   "metadata": {},
   "outputs": [],
   "source": [
    "Qids = pd.read_csv(\"Qids.csv\")\n",
    "Predictions = pd.read_csv(\"Predictions.csv\")"
   ]
  },
  {
   "cell_type": "code",
   "execution_count": 8,
   "id": "e4f18a97",
   "metadata": {},
   "outputs": [
    {
     "data": {
      "text/plain": [
       "151780"
      ]
     },
     "execution_count": 8,
     "metadata": {},
     "output_type": "execute_result"
    }
   ],
   "source": [
    "len(Predictions)"
   ]
  },
  {
   "cell_type": "code",
   "execution_count": 9,
   "id": "4324388b",
   "metadata": {},
   "outputs": [
    {
     "data": {
      "text/plain": [
       "4966"
      ]
     },
     "execution_count": 9,
     "metadata": {},
     "output_type": "execute_result"
    }
   ],
   "source": [
    "len(Qids)"
   ]
  },
  {
   "cell_type": "code",
   "execution_count": 10,
   "id": "36af9683",
   "metadata": {},
   "outputs": [],
   "source": [
    "q_ids_with_srcs = []\n",
    "gt_ = []\n",
    "for i in range(len(Qids)):\n",
    "    qid = Qids['qids'][i]\n",
    "    datum = dataset[qid]\n",
    "    #print(datum.keys())\n",
    "    '''\n",
    "    Ordering\n",
    "    1. img_pos\n",
    "    2. img_neg\n",
    "    3. if len(img_pos+img_neg) == 0 add 0\n",
    "    4. txt_neg\n",
    "    5. txt_pos\n",
    "    6. if len(txt_neg+txt_pos) == 0 add 0\n",
    "    '''\n",
    "    pi = len(datum['img_posFacts'])\n",
    "    ni = len(datum['img_negFacts'])\n",
    "    pt = len(datum['txt_posFacts'])\n",
    "    nt = len(datum['txt_negFacts'])\n",
    "    total_len = pi + ni + pt + nt\n",
    "    if pi != 0:\n",
    "        gt_.extend([1 for i in range(pi)])\n",
    "    if ni != 0:\n",
    "        gt_.extend([0 for i in range(ni)])\n",
    "    if pi + ni == 0:\n",
    "        gt_.extend([0])\n",
    "    if nt != 0:\n",
    "        gt_.extend([0 for i in range(nt)])\n",
    "    if pt != 0:\n",
    "        gt_.extend([1 for i in range(pt)])\n",
    "    if pt + nt == 0:\n",
    "        gt_.extend([0])\n",
    "    if pi + ni == 0:\n",
    "        total_len += 1\n",
    "    if pt + nt == 0:\n",
    "        total_len += 1\n",
    "    curr_qids = [qid]*total_len\n",
    "    q_ids_with_srcs.extend(curr_qids)\n",
    "    #assert(False)"
   ]
  },
  {
   "cell_type": "code",
   "execution_count": 11,
   "id": "2f8a3b44",
   "metadata": {},
   "outputs": [
    {
     "data": {
      "text/plain": [
       "151780"
      ]
     },
     "execution_count": 11,
     "metadata": {},
     "output_type": "execute_result"
    }
   ],
   "source": [
    "len(q_ids_with_srcs)"
   ]
  },
  {
   "cell_type": "code",
   "execution_count": 12,
   "id": "3d9e4c46",
   "metadata": {},
   "outputs": [
    {
     "data": {
      "text/plain": [
       "151780"
      ]
     },
     "execution_count": 12,
     "metadata": {},
     "output_type": "execute_result"
    }
   ],
   "source": [
    "len(gt_)"
   ]
  },
  {
   "cell_type": "code",
   "execution_count": 13,
   "id": "2f686963",
   "metadata": {},
   "outputs": [
    {
     "data": {
      "text/plain": [
       "151780"
      ]
     },
     "execution_count": 13,
     "metadata": {},
     "output_type": "execute_result"
    }
   ],
   "source": [
    "len(gt_)"
   ]
  },
  {
   "cell_type": "code",
   "execution_count": 15,
   "id": "86f1a8c2",
   "metadata": {},
   "outputs": [
    {
     "data": {
      "text/plain": [
       "16022"
      ]
     },
     "execution_count": 15,
     "metadata": {},
     "output_type": "execute_result"
    }
   ],
   "source": [
    "\n",
    "np.sum(np.array(Predictions['GT']) != np.array(gt_))"
   ]
  },
  {
   "cell_type": "code",
   "execution_count": 16,
   "id": "ddf8bb95",
   "metadata": {},
   "outputs": [
    {
     "data": {
      "text/plain": [
       "8629"
      ]
     },
     "execution_count": 16,
     "metadata": {},
     "output_type": "execute_result"
    }
   ],
   "source": [
    "np.sum(gt_)"
   ]
  },
  {
   "cell_type": "code",
   "execution_count": 17,
   "id": "cabe6ba0",
   "metadata": {},
   "outputs": [
    {
     "data": {
      "text/plain": [
       "8629"
      ]
     },
     "execution_count": 17,
     "metadata": {},
     "output_type": "execute_result"
    }
   ],
   "source": [
    "np.sum(Predictions['GT'])"
   ]
  },
  {
   "cell_type": "code",
   "execution_count": null,
   "id": "d29fbd76",
   "metadata": {},
   "outputs": [],
   "source": []
  }
 ],
 "metadata": {
  "kernelspec": {
   "display_name": "Python 3",
   "language": "python",
   "name": "python3"
  },
  "language_info": {
   "codemirror_mode": {
    "name": "ipython",
    "version": 3
   },
   "file_extension": ".py",
   "mimetype": "text/x-python",
   "name": "python",
   "nbconvert_exporter": "python",
   "pygments_lexer": "ipython3",
   "version": "3.8.5"
  }
 },
 "nbformat": 4,
 "nbformat_minor": 5
}
