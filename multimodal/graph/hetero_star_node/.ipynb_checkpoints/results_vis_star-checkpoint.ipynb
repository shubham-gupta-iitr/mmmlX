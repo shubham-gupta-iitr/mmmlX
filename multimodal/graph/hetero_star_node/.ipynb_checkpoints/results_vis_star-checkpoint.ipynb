{
 "cells": [
  {
   "cell_type": "code",
   "execution_count": 1,
   "id": "cf6ba94d",
   "metadata": {},
   "outputs": [],
   "source": [
    "%load_ext autoreload\n",
    "%autoreload 2"
   ]
  },
  {
   "cell_type": "code",
   "execution_count": 18,
   "id": "ab3c7d54",
   "metadata": {},
   "outputs": [],
   "source": [
    "import json, random, time, os, base64\n",
    "import numpy as np\n",
    "from pprint import pprint\n",
    "from collections import Counter, defaultdict\n",
    "import cv2\n",
    "import matplotlib.pyplot as plt\n",
    "import pandas as pd"
   ]
  },
  {
   "cell_type": "code",
   "execution_count": 19,
   "id": "c4b2ad08",
   "metadata": {},
   "outputs": [
    {
     "name": "stdout",
     "output_type": "stream",
     "text": [
      "Counter({'train': 36766, 'val': 4966})\n",
      "41732\n",
      "Counter({'text': 20267, 'YesNo': 7320, 'Others': 5412, 'choose': 4220, 'number': 2118, 'color': 1830, 'shape': 565})\n"
     ]
    }
   ],
   "source": [
    "dataset = json.load(open(\"/project_data/ramanan/shubham/project/data/WebQA_train_val.json\", \"r\"))\n",
    "#dataset = json.load(open(\"/project_data/ramanan/shubham/project/data/WebQA_test.json\", \"r\"))\n",
    "\n",
    "print(Counter([dataset[k]['split'] for k in dataset]))\n",
    "print(len(set([dataset[k]['Guid'] for k in dataset])))\n",
    "print(Counter([dataset[k]['Qcate'] for k in dataset]))\n"
   ]
  },
  {
   "cell_type": "code",
   "execution_count": 20,
   "id": "301b228d",
   "metadata": {},
   "outputs": [
    {
     "name": "stdout",
     "output_type": "stream",
     "text": [
      "389750\n"
     ]
    }
   ],
   "source": [
    "with open(\"/project_data/ramanan/shubham/project/data/imgs.lineidx\", \"r\") as fp_lineidx:\n",
    "    lineidx = [int(i.strip()) for i in fp_lineidx.readlines()]\n",
    "print(len(lineidx))"
   ]
  },
  {
   "cell_type": "code",
   "execution_count": 21,
   "id": "61134bbf",
   "metadata": {},
   "outputs": [],
   "source": [
    "query = \"shape\"\n"
   ]
  },
  {
   "cell_type": "code",
   "execution_count": 22,
   "id": "7eff3d19",
   "metadata": {},
   "outputs": [],
   "source": [
    "Qids = pd.read_csv(\"Qids.csv\")\n",
    "Predictions = pd.read_csv(\"Predictions.csv\")"
   ]
  },
  {
   "cell_type": "code",
   "execution_count": 23,
   "id": "73e131e4",
   "metadata": {},
   "outputs": [
    {
     "data": {
      "text/plain": [
       "Index(['Pred', 'GT'], dtype='object')"
      ]
     },
     "execution_count": 23,
     "metadata": {},
     "output_type": "execute_result"
    }
   ],
   "source": [
    "Predictions.columns"
   ]
  },
  {
   "cell_type": "code",
   "execution_count": 24,
   "id": "1e4c8c92",
   "metadata": {},
   "outputs": [
    {
     "data": {
      "text/plain": [
       "151780"
      ]
     },
     "execution_count": 24,
     "metadata": {},
     "output_type": "execute_result"
    }
   ],
   "source": [
    "len(Predictions)"
   ]
  },
  {
   "cell_type": "code",
   "execution_count": 25,
   "id": "0415ed87",
   "metadata": {},
   "outputs": [
    {
     "data": {
      "text/plain": [
       "4966"
      ]
     },
     "execution_count": 25,
     "metadata": {},
     "output_type": "execute_result"
    }
   ],
   "source": [
    "len(Qids)"
   ]
  },
  {
   "cell_type": "code",
   "execution_count": 26,
   "id": "fa46571c",
   "metadata": {},
   "outputs": [],
   "source": [
    "q_ids_with_srcs = []\n",
    "gt_ = []\n",
    "for i in range(len(Qids)):\n",
    "    qid = Qids['qids'][i]\n",
    "    datum = dataset[qid]\n",
    "    #print(datum.keys())\n",
    "    '''\n",
    "    Ordering\n",
    "    1. img_pos\n",
    "    2. img_neg\n",
    "    3. if len(img_pos+img_neg) == 0 add 0\n",
    "    4. txt_neg\n",
    "    5. txt_pos\n",
    "    6. if len(txt_neg+txt_pos) == 0 add 0\n",
    "    '''\n",
    "    pi = len(datum['img_posFacts'])\n",
    "    ni = len(datum['img_negFacts'])\n",
    "    pt = len(datum['txt_posFacts'])\n",
    "    nt = len(datum['txt_negFacts'])\n",
    "    total_len = pi + ni + pt + nt\n",
    "    if pi != 0:\n",
    "        gt_.extend([1 for i in range(pi)])\n",
    "    if ni != 0:\n",
    "        gt_.extend([0 for i in range(ni)])\n",
    "    if pi + ni == 0:\n",
    "        gt_.extend([0])\n",
    "    if nt != 0:\n",
    "        gt_.extend([0 for i in range(nt)])\n",
    "    if pt != 0:\n",
    "        gt_.extend([1 for i in range(pt)])\n",
    "    if pt + nt == 0:\n",
    "        gt_.extend([0])\n",
    "    if pi + ni == 0:\n",
    "        total_len += 1\n",
    "    if pt + nt == 0:\n",
    "        total_len += 1\n",
    "    curr_qids = [qid]*total_len\n",
    "    q_ids_with_srcs.extend(curr_qids)\n",
    "    #assert(False)"
   ]
  },
  {
   "cell_type": "code",
   "execution_count": 27,
   "id": "58f7c56d",
   "metadata": {},
   "outputs": [],
   "source": [
    "qcate_ids_val = {}\n",
    "for k in dataset:\n",
    "    if dataset[k]['split'] == 'val':\n",
    "        if dataset[k]['Qcate'] not in qcate_ids_val:\n",
    "            qcate_ids_val[dataset[k]['Qcate']] = {k:0}\n",
    "        else:\n",
    "            qcate_ids_val[dataset[k]['Qcate']][k]=0 "
   ]
  },
  {
   "cell_type": "code",
   "execution_count": 28,
   "id": "e2480ad7",
   "metadata": {},
   "outputs": [],
   "source": [
    "import json\n",
    "with open(\"qcate_val.json\",'w') as f:\n",
    "    json.dump(qcate_ids_val, f)\n",
    "#qcate_ids_val"
   ]
  },
  {
   "cell_type": "code",
   "execution_count": 29,
   "id": "ecfae9fc",
   "metadata": {},
   "outputs": [],
   "source": [
    "from sklearn.metrics import f1_score"
   ]
  },
  {
   "cell_type": "code",
   "execution_count": 30,
   "id": "2afdee54",
   "metadata": {},
   "outputs": [],
   "source": [
    "pred_qcate = {}\n",
    "# for key in qcate_ids_val:\n",
    "#     pred_qcate[key] = []\n",
    "pred_qcate['text'] = []\n",
    "pred_qcate['YesNo'] = []\n",
    "pred_qcate['Others'] = []\n",
    "pred_qcate['choose'] = []\n",
    "pred_qcate['number'] = []\n",
    "pred_qcate['color'] = []\n",
    "pred_qcate['shape'] = []"
   ]
  },
  {
   "cell_type": "code",
   "execution_count": 40,
   "id": "5203fc5f",
   "metadata": {},
   "outputs": [],
   "source": [
    "def get_f1_category(qcate):\n",
    "    preds = []\n",
    "    gts = []\n",
    "    for i in range(len(q_ids_with_srcs)):\n",
    "        qid = q_ids_with_srcs[i]\n",
    "        if qid in qcate_ids_val[qcate]:\n",
    "            preds.append(Predictions['Pred'][i])\n",
    "            gts.append(Predictions['GT'][i])\n",
    "    print(qcate, f1_score(gts, preds))\n",
    "    return f1_score(gts, preds)"
   ]
  },
  {
   "cell_type": "code",
   "execution_count": 97,
   "id": "89ae6cf6",
   "metadata": {},
   "outputs": [
    {
     "name": "stdout",
     "output_type": "stream",
     "text": [
      "All  0.6108556689469552\n",
      "YesNo 0.6054977711738485\n",
      "Others 0.6575963718820861\n",
      "shape 0.7044025157232705\n",
      "color 0.628930817610063\n",
      "choose 0.6005665722379604\n",
      "number 0.7436823104693141\n",
      "text 0.5967571716396431\n"
     ]
    }
   ],
   "source": [
    "Predictions = pd.read_csv(\"Predictions.csv\")\n",
    "print(\"All \", f1_score(Predictions['GT'], Predictions['Pred']))\n",
    "preds = []\n",
    "for key in pred_qcate:\n",
    "    preds.append(get_f1_category(key))\n"
   ]
  },
  {
   "cell_type": "code",
   "execution_count": 99,
   "id": "49b14b74",
   "metadata": {},
   "outputs": [
    {
     "name": "stdout",
     "output_type": "stream",
     "text": [
      "All  0.6004730617608409\n",
      "YesNo 0.5953982300884957\n",
      "Others 0.6709886547811993\n",
      "shape 0.6514285714285714\n",
      "color 0.6008064516129032\n",
      "choose 0.5884907709011944\n",
      "number 0.7343485617597293\n",
      "text 0.5842596709648733\n"
     ]
    }
   ],
   "source": [
    "Predictions = pd.read_csv(\"../hetero_text_inc/Predictions.csv\")\n",
    "print(\"All \", f1_score(Predictions['GT'], Predictions['Pred']))\n",
    "preds_all = []\n",
    "for key in pred_qcate:\n",
    "    preds_all.append(get_f1_category(key))"
   ]
  },
  {
   "cell_type": "code",
   "execution_count": 93,
   "id": "7997feef",
   "metadata": {},
   "outputs": [
    {
     "data": {
      "text/plain": [
       "[0.5990617105738,\n",
       " 0.6455555555555555,\n",
       " 0.773006134969325,\n",
       " 0.6283367556468172,\n",
       " 0.5931344963421497,\n",
       " 0.7398230088495575,\n",
       " 0.6005578532268924]"
      ]
     },
     "execution_count": 93,
     "metadata": {},
     "output_type": "execute_result"
    }
   ],
   "source": [
    "preds"
   ]
  },
  {
   "cell_type": "code",
   "execution_count": 95,
   "id": "2c30e358",
   "metadata": {},
   "outputs": [],
   "source": [
    "palettes = ['#646CA1', '#2A8DAA', '#F6C76F', '#D67257', '#E1E1E1', '#8ADB8E']\n",
    "\n",
    "data_counts = np.array([20267, 7320, 5412, 4220, 2118, 1830, 565])\n",
    "data_counts = data_counts/np.sum(data_counts)"
   ]
  },
  {
   "cell_type": "code",
   "execution_count": 100,
   "id": "d64c2fa9",
   "metadata": {},
   "outputs": [
    {
     "data": {
      "image/png": "[encoded data removed]",
      "text/plain": [
       "<Figure size 432x432 with 1 Axes>"
      ]
     },
     "metadata": {
      "needs_background": "light"
     },
     "output_type": "display_data"
    }
   ],
   "source": [
    "# create data\n",
    "x = np.arange(7)\n",
    "#y1 = [34, 56, 12, 89, 67]\n",
    "#y2 = [12, 56, 78, 45, 90]\n",
    "#y3 = [14, 23, 45, 25, 89]\n",
    "width = 0.2\n",
    "\n",
    "plt.fill_between(x,data_counts, label=\"% Data Distribution\", interpolate=True ,linewidth=3, color=palettes[3], alpha=0.3, zorder=6 )\n",
    "# plot data in grouped manner of bar type\n",
    "plt.bar(x-0.1, preds_all, width, color=palettes[1], zorder=4 )\n",
    "plt.bar(x+0.1, preds, width, color=palettes[2], zorder=4)\n",
    "\n",
    "#plt.bar(x+0.2, y3, width, color='green')\n",
    "plt.xticks(x, ['Text', 'Yes/No', 'Others', 'Choose', 'Number', 'Color', 'Shape'])\n",
    "plt.xlabel(\"Teams\")\n",
    "plt.ylabel(\"Scores\")\n",
    "plt.legend([\"% Data Distribution\", \"Super Node\", \"Star Graph\"])\n",
    "ax = plt.gca()\n",
    "ax.set_ylim(0,1)\n",
    "plt.grid(True)\n",
    "plt.savefig(\"Bar_plot.pdf\", bbox_inches='tight')\n",
    "plt.show()"
   ]
  },
  {
   "cell_type": "code",
   "execution_count": null,
   "id": "81175c8b",
   "metadata": {},
   "outputs": [],
   "source": []
  }
 ],
 "metadata": {
  "kernelspec": {
   "display_name": "Python 3",
   "language": "python",
   "name": "python3"
  },
  "language_info": {
   "codemirror_mode": {
    "name": "ipython",
    "version": 3
   },
   "file_extension": ".py",
   "mimetype": "text/x-python",
   "name": "python",
   "nbconvert_exporter": "python",
   "pygments_lexer": "ipython3",
   "version": "3.8.5"
  }
 },
 "nbformat": 4,
 "nbformat_minor": 5
}
