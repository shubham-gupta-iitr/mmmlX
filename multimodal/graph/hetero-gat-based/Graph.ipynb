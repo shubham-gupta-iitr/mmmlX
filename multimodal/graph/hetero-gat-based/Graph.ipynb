{
 "cells": [
  {
   "cell_type": "code",
   "execution_count": 1,
   "id": "d4964d8b",
   "metadata": {},
   "outputs": [],
   "source": [
    "%load_ext autoreload\n",
    "%autoreload 2"
   ]
  },
  {
   "cell_type": "code",
   "execution_count": 2,
   "id": "9e08139a",
   "metadata": {},
   "outputs": [],
   "source": [
    "import torch\n",
    "import torch_geometric.transforms as T\n",
    "from torch_geometric.datasets import OGB_MAG\n",
    "from torch_geometric.nn import SAGEConv, to_hetero\n",
    "from model import ToyNet"
   ]
  },
  {
   "cell_type": "code",
   "execution_count": 3,
   "id": "94c7e92f",
   "metadata": {},
   "outputs": [],
   "source": [
    "data = OGB_MAG(root='hetero/data', preprocess='metapath2vec', transform=T.ToUndirected())[0]"
   ]
  },
  {
   "cell_type": "code",
   "execution_count": 4,
   "id": "4fb2a8b4",
   "metadata": {},
   "outputs": [],
   "source": [
    "class GNN(torch.nn.Module):\n",
    "    def __init__(self, hidden_channels, out_channels):\n",
    "        super().__init__()\n",
    "        self.conv1 = SAGEConv((-1, -1), hidden_channels)\n",
    "        self.conv2 = SAGEConv((-1, -1), out_channels)\n",
    "\n",
    "    def forward(self, x, edge_index):\n",
    "        x = self.conv1(x, edge_index).relu()\n",
    "        x = self.conv2(x, edge_index)\n",
    "        return x\n"
   ]
  },
  {
   "cell_type": "code",
   "execution_count": 5,
   "id": "84461e0b",
   "metadata": {},
   "outputs": [],
   "source": [
    "model = GNN(hidden_channels=64, out_channels=2)"
   ]
  },
  {
   "cell_type": "code",
   "execution_count": 6,
   "id": "eb5166c9",
   "metadata": {},
   "outputs": [],
   "source": [
    "model = to_hetero(model, data.metadata(), aggr='sum')"
   ]
  },
  {
   "cell_type": "code",
   "execution_count": 7,
   "id": "f3c3dfdc",
   "metadata": {},
   "outputs": [],
   "source": [
    "#graph_meta = (['txt_src', 'img_src', 'ques'], [('ques','contains','txt_src'), ('ques','contains','img_src')])\n",
    "graph_meta = (['txt_src', 'img_src'], [('txt_src','link1','txt_src'), ('img_src','contains','img_src'), \n",
    "('txt_src','link1','img_src'), ('img_src','link1','txt_src')])"
   ]
  },
  {
   "cell_type": "code",
   "execution_count": 8,
   "id": "d54c5402",
   "metadata": {},
   "outputs": [],
   "source": [
    "model = to_hetero(model, graph_meta, aggr='sum')"
   ]
  },
  {
   "cell_type": "code",
   "execution_count": 9,
   "id": "a3e43b0b",
   "metadata": {},
   "outputs": [],
   "source": [
    "model2 = ToyNet()"
   ]
  },
  {
   "cell_type": "code",
   "execution_count": 10,
   "id": "61f6c1f6",
   "metadata": {},
   "outputs": [],
   "source": [
    "model2 = to_hetero(model2, graph_meta, aggr='sum')"
   ]
  },
  {
   "cell_type": "code",
   "execution_count": 11,
   "id": "123c7222",
   "metadata": {},
   "outputs": [
    {
     "data": {
      "text/plain": [
       "HeteroData(\n",
       "  \u001b[1mpaper\u001b[0m={\n",
       "    x=[736389, 128],\n",
       "    year=[736389],\n",
       "    y=[736389],\n",
       "    train_mask=[736389],\n",
       "    val_mask=[736389],\n",
       "    test_mask=[736389]\n",
       "  },\n",
       "  \u001b[1mauthor\u001b[0m={ x=[1134649, 128] },\n",
       "  \u001b[1minstitution\u001b[0m={ x=[8740, 128] },\n",
       "  \u001b[1mfield_of_study\u001b[0m={ x=[59965, 128] },\n",
       "  \u001b[1m(author, affiliated_with, institution)\u001b[0m={ edge_index=[2, 1043998] },\n",
       "  \u001b[1m(author, writes, paper)\u001b[0m={ edge_index=[2, 7145660] },\n",
       "  \u001b[1m(paper, cites, paper)\u001b[0m={ edge_index=[2, 10792672] },\n",
       "  \u001b[1m(paper, has_topic, field_of_study)\u001b[0m={ edge_index=[2, 7505078] },\n",
       "  \u001b[1m(institution, rev_affiliated_with, author)\u001b[0m={ edge_index=[2, 1043998] },\n",
       "  \u001b[1m(paper, rev_writes, author)\u001b[0m={ edge_index=[2, 7145660] },\n",
       "  \u001b[1m(field_of_study, rev_has_topic, paper)\u001b[0m={ edge_index=[2, 7505078] }\n",
       ")"
      ]
     },
     "execution_count": 11,
     "metadata": {},
     "output_type": "execute_result"
    }
   ],
   "source": [
    "data"
   ]
  },
  {
   "cell_type": "code",
   "execution_count": 26,
   "id": "e41c92e2",
   "metadata": {},
   "outputs": [
    {
     "data": {
      "text/plain": [
       "{'paper': tensor([[-0.0954,  0.0408, -0.2109,  ...,  0.0616, -0.0277, -0.1338],\n",
       "         [-0.1510, -0.1073, -0.2220,  ...,  0.3458, -0.0277, -0.2185],\n",
       "         [-0.1148, -0.1760, -0.2606,  ...,  0.1731, -0.1564, -0.2780],\n",
       "         ...,\n",
       "         [ 0.0228, -0.0865,  0.0981,  ..., -0.0547, -0.2077, -0.2305],\n",
       "         [-0.2891, -0.2029, -0.1525,  ...,  0.1042,  0.2041, -0.3528],\n",
       "         [-0.0890, -0.0348, -0.2642,  ...,  0.2601, -0.0875, -0.5171]]),\n",
       " 'author': tensor([[-0.4683,  0.1084, -0.0180,  ..., -0.2873,  0.3973,  0.0373],\n",
       "         [ 0.1035, -0.3703, -0.3722,  ...,  0.5777,  0.0044, -0.3645],\n",
       "         [ 0.3745,  0.0797,  0.3995,  ...,  0.0166, -0.5806, -0.1265],\n",
       "         ...,\n",
       "         [-0.0076,  0.6291,  0.0684,  ...,  0.0279,  0.1603, -0.0225],\n",
       "         [ 0.1657, -0.1814,  0.2352,  ..., -0.4000, -0.4608, -0.7904],\n",
       "         [-0.4098,  0.0470, -0.2027,  ...,  0.1393, -0.1985, -0.6175]]),\n",
       " 'institution': tensor([[ 0.9148, -0.4798, -0.5734,  ...,  0.5746,  0.0610,  0.4985],\n",
       "         [-0.5284, -0.1968,  0.5510,  ..., -0.5377,  0.1137,  0.2736],\n",
       "         [-0.0787, -0.1944,  0.1080,  ..., -0.1358,  0.1673, -0.0555],\n",
       "         ...,\n",
       "         [-0.0096,  0.0170,  0.1484,  ..., -0.1231,  0.1940, -0.4358],\n",
       "         [-0.5490, -0.2248, -0.0336,  ...,  0.0878,  0.2260, -0.0637],\n",
       "         [ 0.7806, -0.3770,  0.2447,  ...,  0.0272,  0.1601,  0.1370]]),\n",
       " 'field_of_study': tensor([[ 1.7532e-02, -3.0144e-01,  3.2530e-01,  ..., -1.6283e-01,\n",
       "          -1.3862e-01,  3.3216e-01],\n",
       "         [-5.3028e-01,  1.5095e-01, -1.2914e-01,  ...,  7.6167e-02,\n",
       "           3.0035e-01, -1.5220e-02],\n",
       "         [-7.1854e-01,  6.7117e-04, -4.1465e-01,  ..., -1.5486e-01,\n",
       "          -4.1101e-01, -6.1223e-01],\n",
       "         ...,\n",
       "         [-3.1354e-01,  8.0473e-01,  9.4273e-02,  ..., -3.2736e-01,\n",
       "           7.9512e-01, -5.7828e-02],\n",
       "         [-5.5001e-01,  1.7064e-01, -3.7380e-01,  ..., -2.2461e-01,\n",
       "          -4.1444e-02,  3.8327e-01],\n",
       "         [ 7.9902e-02, -2.2594e-01, -2.3080e-01,  ..., -3.6825e-01,\n",
       "          -9.1278e-02, -3.0853e-01]])}"
      ]
     },
     "execution_count": 26,
     "metadata": {},
     "output_type": "execute_result"
    }
   ],
   "source": [
    "data.x_dict"
   ]
  },
  {
   "cell_type": "code",
   "execution_count": 19,
   "id": "ff8b2c27",
   "metadata": {},
   "outputs": [],
   "source": [
    "import numpy as np\n",
    "y = np.zeros(10)\n",
    "node_idx = [i for i in range(len(y))]\n",
    "source_nodes = []\n",
    "for i in range(len(y)):\n",
    "    source_nodes += [i]*(len(y)-1)\n",
    "target_nodes = []\n",
    "for i in range(len(y)):\n",
    "    target_nodes += node_idx[:i] + node_idx[i+1:]"
   ]
  },
  {
   "cell_type": "code",
   "execution_count": 12,
   "id": "344fb043",
   "metadata": {},
   "outputs": [
    {
     "data": {
      "text/plain": [
       "GraphModule(\n",
       "  (linq): ModuleDict(\n",
       "    (txt_src): Linear(in_features=768, out_features=512, bias=True)\n",
       "    (img_src): Linear(in_features=768, out_features=512, bias=True)\n",
       "  )\n",
       "  (blinq): ModuleDict(\n",
       "    (txt_src): BatchNorm1d(512, eps=1e-05, momentum=0.1, affine=True, track_running_stats=True)\n",
       "    (img_src): BatchNorm1d(512, eps=1e-05, momentum=0.1, affine=True, track_running_stats=True)\n",
       "  )\n",
       "  (linc): ModuleDict(\n",
       "    (txt_src): Linear(in_features=768, out_features=512, bias=True)\n",
       "    (img_src): Linear(in_features=768, out_features=512, bias=True)\n",
       "  )\n",
       "  (blinc): ModuleDict(\n",
       "    (txt_src): BatchNorm1d(512, eps=1e-05, momentum=0.1, affine=True, track_running_stats=True)\n",
       "    (img_src): BatchNorm1d(512, eps=1e-05, momentum=0.1, affine=True, track_running_stats=True)\n",
       "  )\n",
       "  (lini): ModuleDict(\n",
       "    (txt_src): Linear(in_features=2048, out_features=512, bias=True)\n",
       "    (img_src): Linear(in_features=2048, out_features=512, bias=True)\n",
       "  )\n",
       "  (blini): ModuleDict(\n",
       "    (txt_src): BatchNorm1d(512, eps=1e-05, momentum=0.1, affine=True, track_running_stats=True)\n",
       "    (img_src): BatchNorm1d(512, eps=1e-05, momentum=0.1, affine=True, track_running_stats=True)\n",
       "  )\n",
       "  (conv1): ModuleDict(\n",
       "    (txt_src__link1__txt_src): SAGEConv(1536, 2048)\n",
       "    (img_src__contains__img_src): SAGEConv(1536, 2048)\n",
       "    (txt_src__link1__img_src): SAGEConv(1536, 2048)\n",
       "    (img_src__link1__txt_src): SAGEConv(1536, 2048)\n",
       "  )\n",
       "  (conv3): ModuleDict(\n",
       "    (txt_src__link1__txt_src): SAGEConv(1024, 512)\n",
       "    (img_src__contains__img_src): SAGEConv(1024, 512)\n",
       "    (txt_src__link1__img_src): SAGEConv(1024, 512)\n",
       "    (img_src__link1__txt_src): SAGEConv(1024, 512)\n",
       "  )\n",
       "  (conv4): ModuleDict(\n",
       "    (txt_src__link1__txt_src): SAGEConv(512, 256)\n",
       "    (img_src__contains__img_src): SAGEConv(512, 256)\n",
       "    (txt_src__link1__img_src): SAGEConv(512, 256)\n",
       "    (img_src__link1__txt_src): SAGEConv(512, 256)\n",
       "  )\n",
       "  (conv5): ModuleDict(\n",
       "    (txt_src__link1__txt_src): SAGEConv(256, 256)\n",
       "    (img_src__contains__img_src): SAGEConv(256, 256)\n",
       "    (txt_src__link1__img_src): SAGEConv(256, 256)\n",
       "    (img_src__link1__txt_src): SAGEConv(256, 256)\n",
       "  )\n",
       "  (conv6): ModuleDict(\n",
       "    (txt_src__link1__txt_src): SAGEConv(256, 128)\n",
       "    (img_src__contains__img_src): SAGEConv(256, 128)\n",
       "    (txt_src__link1__img_src): SAGEConv(256, 128)\n",
       "    (img_src__link1__txt_src): SAGEConv(256, 128)\n",
       "  )\n",
       "  (lin1): ModuleDict(\n",
       "    (txt_src): Linear(in_features=128, out_features=128, bias=True)\n",
       "    (img_src): Linear(in_features=128, out_features=128, bias=True)\n",
       "  )\n",
       "  (act1): ModuleDict(\n",
       "    (txt_src): ReLU()\n",
       "    (img_src): ReLU()\n",
       "  )\n",
       "  (lin2): ModuleDict(\n",
       "    (txt_src): Linear(in_features=128, out_features=64, bias=True)\n",
       "    (img_src): Linear(in_features=128, out_features=64, bias=True)\n",
       "  )\n",
       "  (act2): ModuleDict(\n",
       "    (txt_src): ReLU()\n",
       "    (img_src): ReLU()\n",
       "  )\n",
       "  (lin3): ModuleDict(\n",
       "    (txt_src): Linear(in_features=64, out_features=2, bias=True)\n",
       "    (img_src): Linear(in_features=64, out_features=2, bias=True)\n",
       "  )\n",
       "  (_softmax): ModuleDict(\n",
       "    (txt_src): Softmax(dim=-1)\n",
       "    (img_src): Softmax(dim=-1)\n",
       "  )\n",
       "  (conv2): ModuleDict(\n",
       "    (txt_src): SAGEConv(2048, 1024)\n",
       "    (img_src): SAGEConv(2048, 1024)\n",
       "  )\n",
       "  (linqci): ModuleDict(\n",
       "    (txt_src): Linear(in_features=1536, out_features=512, bias=True)\n",
       "    (img_src): Linear(in_features=1536, out_features=512, bias=True)\n",
       "  )\n",
       ")"
      ]
     },
     "execution_count": 12,
     "metadata": {},
     "output_type": "execute_result"
    }
   ],
   "source": [
    "model2"
   ]
  },
  {
   "cell_type": "code",
   "execution_count": 14,
   "id": "0055fd3e",
   "metadata": {},
   "outputs": [],
   "source": [
    "srcs = [0,1,2,3]\n",
    "tar = [0,1,2]\n",
    "num_srcs = len(srcs)\n",
    "num_targets = len(tar)"
   ]
  },
  {
   "cell_type": "code",
   "execution_count": 18,
   "id": "451f8ede",
   "metadata": {},
   "outputs": [],
   "source": [
    "source_nodes = []\n",
    "for i in range(num_srcs):\n",
    "    source_nodes += [i]*(num_targets)"
   ]
  },
  {
   "cell_type": "code",
   "execution_count": 20,
   "id": "f28c094c",
   "metadata": {},
   "outputs": [
    {
     "data": {
      "text/plain": [
       "[0, 0, 0, 1, 1, 1, 2, 2, 2, 3, 3, 3]"
      ]
     },
     "execution_count": 20,
     "metadata": {},
     "output_type": "execute_result"
    }
   ],
   "source": [
    "source_nodes"
   ]
  },
  {
   "cell_type": "code",
   "execution_count": 23,
   "id": "1dd2ed73",
   "metadata": {},
   "outputs": [],
   "source": [
    "target_nodes = tar*num_srcs"
   ]
  },
  {
   "cell_type": "code",
   "execution_count": 24,
   "id": "de2e9242",
   "metadata": {},
   "outputs": [],
   "source": [
    "edge_index = torch.tensor([source_nodes, target_nodes], \n",
    "                    dtype=torch.long)"
   ]
  },
  {
   "cell_type": "code",
   "execution_count": 25,
   "id": "9e22b65f",
   "metadata": {},
   "outputs": [
    {
     "data": {
      "text/plain": [
       "tensor([[0, 0, 0, 1, 1, 1, 2, 2, 2, 3, 3, 3],\n",
       "        [0, 1, 2, 0, 1, 2, 0, 1, 2, 0, 1, 2]])"
      ]
     },
     "execution_count": 25,
     "metadata": {},
     "output_type": "execute_result"
    }
   ],
   "source": [
    "edge_index"
   ]
  },
  {
   "cell_type": "code",
   "execution_count": 33,
   "id": "9d680fc6",
   "metadata": {},
   "outputs": [],
   "source": [
    "import pickle\n",
    "import json"
   ]
  },
  {
   "cell_type": "code",
   "execution_count": 34,
   "id": "fb41c03d",
   "metadata": {},
   "outputs": [],
   "source": [
    "with open(\"../model/WebQA_train_val.json\", 'r') as f:\n",
    "    dump_j = json.load(f)"
   ]
  },
  {
   "cell_type": "code",
   "execution_count": 28,
   "id": "4087e797",
   "metadata": {},
   "outputs": [],
   "source": [
    "with open(\"../model/ImgQueries_embeddings.pkl\", 'rb') as f:\n",
    "    dump = pickle.load(f)"
   ]
  },
  {
   "cell_type": "code",
   "execution_count": 36,
   "id": "24734f8c",
   "metadata": {},
   "outputs": [
    {
     "data": {
      "text/plain": [
       "[{'title': 'Xanadu Houses',\n",
       "  'fact': 'Construction of the Xanadu house in Kissimmee, Florida, began with the pouring of a concrete slab base and the erection of a tension ring 40 feet (12 m) in diameter to anchor the domed roof of what would become the \"Great Room\" of the house.',\n",
       "  'url': 'https://en.wikipedia.org/wiki/Xanadu_Houses',\n",
       "  'snippet_id': 'd5bbc6d80dba11ecb1e81171463288e9_6'},\n",
       " {'title': 'Xanadu Houses',\n",
       "  'fact': 'The Xanadu house in Kissimmee, Florida used an automated system controlled by Commodore microcomputers. The house had fifteen rooms; of these the kitchen, party room, health spa, and bedrooms all used computers and other electronic equipment heavily in their design.',\n",
       "  'url': 'https://en.wikipedia.org/wiki/Xanadu_Houses',\n",
       "  'snippet_id': 'd5bbc6d80dba11ecb1e81171463288e9_7'},\n",
       " {'title': 'Booker T. Washington',\n",
       "  'fact': \"In 1946, he was honored on the first coin to feature an African American, the Booker T. Washington Memorial Half Dollar, which was minted by the United States until 1951.On April 5, 1956, the hundredth anniversary of Washington's birth, the house where he was born in Franklin County, Virginia, was designated as the Booker T. Washington National Monument.\",\n",
       "  'url': 'https://en.wikipedia.org/wiki/Booker_T._Washington',\n",
       "  'snippet_id': 'd5bbc6d80dba11ecb1e81171463288e9_13'},\n",
       " {'title': 'National Building Museum',\n",
       "  'fact': 'The National Building Museum is located at 401 F Street NW in Washington, D.C.   It is a museum of \"architecture, design, engineering, construction, and urban planning\".',\n",
       "  'url': 'https://en.wikipedia.org/wiki/National_Building_Museum',\n",
       "  'snippet_id': 'd5bbc6d80dba11ecb1e81171463288e9_14'},\n",
       " {'title': 'National Air and Space Museum',\n",
       "  'fact': \"The National Air and Space Museum of the Smithsonian Institution, also called the Air and Space Museum, is a museum in Washington, D.C., US. It was established in 1946 as the National Air Museum and opened its main building on the National Mall near L'Enfant Plaza in 1976.\",\n",
       "  'url': 'https://en.wikipedia.org/wiki/National_Air_and_Space_Museum',\n",
       "  'snippet_id': 'd5bbc6d80dba11ecb1e81171463288e9_11'},\n",
       " {'title': 'Native Americans in the United States',\n",
       "  'fact': 'Most American Indians are comfortable with Indian, American Indian, and Native American. That term is reflected in the name chosen for the National Museum of the American Indian, which opened in 2004 on the Mall in Washington, DC.',\n",
       "  'url': 'https://en.wikipedia.org/wiki/Native_Americans_in_the_United_States',\n",
       "  'snippet_id': 'd5bbc6d80dba11ecb1e81171463288e9_12'},\n",
       " {'title': 'National Air and Space Museum',\n",
       "  'fact': 'The National Air and Space Museum of the Smithsonian Institution, also called the Air and Space Museum, is a museum in Washington, D.C., US.',\n",
       "  'url': 'https://en.wikipedia.org/wiki/National_Air_and_Space_Museum',\n",
       "  'snippet_id': 'd5bbc6d80dba11ecb1e81171463288e9_1'},\n",
       " {'title': 'Xanadu Houses',\n",
       "  'fact': 'The interior of the house was cave-like, featuring cramped rooms and low ceilings, although it is not clear whether these accounts describe the same Xanadu House with a thirty-foot dome. The interiors used a cream color for the walls, and a pale green for the floor.',\n",
       "  'url': 'https://en.wikipedia.org/wiki/Xanadu_Houses',\n",
       "  'snippet_id': 'd5bbc6d80dba11ecb1e81171463288e9_9'},\n",
       " {'title': 'The Washington Post',\n",
       "  'fact': 'The Washington Post (also known as the Post and, informally, WaPo) is an American daily newspaper published in Washington, D.C. It is the most-widely circulated newspaper within the Washington metropolitan area, and has a large national audience.',\n",
       "  'url': 'https://en.wikipedia.org/wiki/The_Washington_Post',\n",
       "  'snippet_id': 'd5bbc6d80dba11ecb1e81171463288e9_2'},\n",
       " {'title': 'Native Americans in the United States',\n",
       "  'fact': 'That term is reflected in the name chosen for the National Museum of the American Indian, which opened in 2004 on the Mall in Washington, DC.',\n",
       "  'url': 'https://en.wikipedia.org/wiki/Native_Americans_in_the_United_States',\n",
       "  'snippet_id': 'd5bbc6d80dba11ecb1e81171463288e9_15'},\n",
       " {'title': 'Washington, D.C.',\n",
       "  'fact': \"The Smithsonian American Art Museum and the National Portrait Gallery are housed in the Old Patent Office Building, near Washington's Chinatown. The Renwick Gallery is officially part of the Smithsonian American Art Museum but is in a separate building near the White House.\",\n",
       "  'url': 'https://en.wikipedia.org/wiki/Washington,_D.C.',\n",
       "  'snippet_id': 'd5bbc6d80dba11ecb1e81171463288e9_5'},\n",
       " {'title': 'Xanadu Houses',\n",
       "  'fact': 'It had at least two entrances, and large porthole-type windows. The interior of the house was cave-like, featuring cramped rooms and low ceilings, although it is not clear whether these accounts describe the same Xanadu House with a thirty-foot dome.',\n",
       "  'url': 'https://en.wikipedia.org/wiki/Xanadu_Houses',\n",
       "  'snippet_id': 'd5bbc6d80dba11ecb1e81171463288e9_10'},\n",
       " {'title': 'History of American Indian schools',\n",
       "  'fact': 'Investigations of the later twentieth century have revealed many documented cases of sexual, manual, physical and mental abuse occurring mostly in church-run schools. The National Museum of the American Indian also notes that some students had good memories of their school days, having learned skills and made lifelong friends.',\n",
       "  'url': 'https://en.wikipedia.org/wiki/History_of_American_Indian_schools',\n",
       "  'snippet_id': 'd5bbc6d80dba11ecb1e81171463288e9_8'},\n",
       " {'title': 'National Building Museum',\n",
       "  'fact': \"The building itself was formally renamed the National Building Museum in 1997.Every year, the annual Christmas in Washington program was filmed at the museum, with the President and First Lady until the show's cancellation in 2015.\",\n",
       "  'url': 'https://en.wikipedia.org/wiki/National_Building_Museum',\n",
       "  'snippet_id': 'd5bbc6d80dba11ecb1e81171463288e9_3'},\n",
       " {'title': 'Washington, D.C.',\n",
       "  'fact': 'The Renwick Gallery is officially part of the Smithsonian American Art Museum but is in a separate building near the White House. Other Smithsonian museums and galleries include: the Anacostia Community Museum in Southeast Washington; the National Postal Museum near Union Station; and the National Zoo in Woodley Park.',\n",
       "  'url': 'https://en.wikipedia.org/wiki/Washington,_D.C.',\n",
       "  'snippet_id': 'd5bbc6d80dba11ecb1e81171463288e9_0'},\n",
       " {'title': 'Xanadu Houses',\n",
       "  'fact': 'The interior of the house was cave-like, featuring cramped rooms and low ceilings, although it is not clear whether these accounts describe the same Xanadu House with a thirty-foot dome.',\n",
       "  'url': 'https://en.wikipedia.org/wiki/Xanadu_Houses',\n",
       "  'snippet_id': 'd5bbc6d80dba11ecb1e81171463288e9_4'}]"
      ]
     },
     "execution_count": 36,
     "metadata": {},
     "output_type": "execute_result"
    }
   ],
   "source": [
    "dump_j['d5bbc6d80dba11ecb1e81171463288e9']['txt_negFacts']"
   ]
  },
  {
   "cell_type": "code",
   "execution_count": 38,
   "id": "cea22d6a",
   "metadata": {},
   "outputs": [
    {
     "data": {
      "text/plain": [
       "(768,)"
      ]
     },
     "execution_count": 38,
     "metadata": {},
     "output_type": "execute_result"
    }
   ],
   "source": [
    "dump['d5bbc6d80dba11ecb1e81171463288e9']['txt_negFacts']['d5bbc6d80dba11ecb1e81171463288e9_6'].shape"
   ]
  },
  {
   "cell_type": "code",
   "execution_count": null,
   "id": "f21ada94",
   "metadata": {},
   "outputs": [],
   "source": []
  }
 ],
 "metadata": {
  "kernelspec": {
   "display_name": "Python 3",
   "language": "python",
   "name": "python3"
  },
  "language_info": {
   "codemirror_mode": {
    "name": "ipython",
    "version": 3
   },
   "file_extension": ".py",
   "mimetype": "text/x-python",
   "name": "python",
   "nbconvert_exporter": "python",
   "pygments_lexer": "ipython3",
   "version": "3.8.5"
  }
 },
 "nbformat": 4,
 "nbformat_minor": 5
}
