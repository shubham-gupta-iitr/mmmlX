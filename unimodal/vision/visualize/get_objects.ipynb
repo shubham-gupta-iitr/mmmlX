{
 "cells": [
  {
   "cell_type": "code",
   "execution_count": 52,
   "id": "7c18ac29",
   "metadata": {},
   "outputs": [],
   "source": [
    "import pickle\n",
    "from collections import Counter\n",
    "import matplotlib.pyplot as plt\n",
    "\n",
    "%matplotlib inline"
   ]
  },
  {
   "cell_type": "code",
   "execution_count": 53,
   "id": "d99a12b9",
   "metadata": {},
   "outputs": [],
   "source": [
    "def load_pickle(file_path):\n",
    "    with open(file_path, 'rb') as f:\n",
    "        pickle_data = pickle.load(f)\n",
    "    return pickle_data"
   ]
  },
  {
   "cell_type": "code",
   "execution_count": 108,
   "id": "d2d66043",
   "metadata": {},
   "outputs": [],
   "source": [
    "def get_class_counts(data, normalize=True):\n",
    "    class_counts = {}\n",
    "    no_obs = 0\n",
    "    for i in range(len(data)):\n",
    "        if len(data[i]) == 0:\n",
    "            no_obs += 1\n",
    "        else:\n",
    "            lis = list(set(data[i]))\n",
    "            for obj in lis:\n",
    "                if obj in class_counts:\n",
    "                    class_counts[obj] += 1\n",
    "                else:\n",
    "                    class_counts[obj] = 1\n",
    "    print(class_counts)\n",
    "    if normalize:\n",
    "        for class_ in class_counts:\n",
    "            count_norm = class_counts[class_]/len(data)\n",
    "            class_counts[class_] = count_norm\n",
    "    print(f\"Number of images with no Objects: {no_obs}\")\n",
    "    return class_counts"
   ]
  },
  {
   "cell_type": "code",
   "execution_count": 109,
   "id": "d0d2b923",
   "metadata": {},
   "outputs": [
    {
     "name": "stdout",
     "output_type": "stream",
     "text": [
      "Color, total images : 2148\n",
      "{'traffic light': 152, 'person': 1231, 'car': 429, 'tv': 50, 'handbag': 189, 'dining table': 52, 'bottle': 76, 'dog': 30, 'snowboard': 6, 'tie': 64, 'truck': 106, 'motorcycle': 58, 'backpack': 165, 'baseball bat': 18, 'bird': 214, 'boat': 113, 'clock': 109, 'sports ball': 49, 'cell phone': 22, 'frisbee': 25, 'umbrella': 200, 'vase': 55, 'elephant': 8, 'fire hydrant': 39, 'cake': 18, 'chair': 195, 'refrigerator': 12, 'kite': 38, 'laptop': 11, 'book': 43, 'cup': 38, 'bench': 152, 'potted plant': 218, 'bicycle': 105, 'bear': 19, 'horse': 38, 'stop sign': 22, 'teddy bear': 31, 'tennis racket': 5, 'parking meter': 10, 'apple': 1, 'bus': 65, 'wine glass': 8, 'airplane': 18, 'skateboard': 19, 'surfboard': 17, 'train': 47, 'cat': 4, 'broccoli': 14, 'sink': 6, 'bowl': 16, 'bed': 17, 'pizza': 1, 'suitcase': 32, 'mouse': 2, 'couch': 3, 'fork': 5, 'baseball glove': 12, 'skis': 13, 'donut': 5, 'banana': 7, 'orange': 1, 'sheep': 2, 'toothbrush': 11, 'spoon': 4, 'scissors': 3, 'microwave': 2, 'remote': 2, 'giraffe': 2, 'cow': 5, 'keyboard': 5, 'toilet': 3, 'knife': 3, 'oven': 1}\n",
      "Number of images with no Objects: 257\n",
      "[('potted plant', 0.10148975791433892), ('bird', 0.09962756052141528), ('umbrella', 0.0931098696461825), ('chair', 0.09078212290502793), ('handbag', 0.08798882681564246), ('backpack', 0.07681564245810056), ('traffic light', 0.07076350093109869), ('bench', 0.07076350093109869), ('boat', 0.05260707635009311), ('clock', 0.05074487895716946)]\n"
     ]
    },
    {
     "data": {
      "text/plain": [
       "<BarContainer object of 10 artists>"
      ]
     },
     "execution_count": 109,
     "metadata": {},
     "output_type": "execute_result"
    },
    {
     "data": {
      "image/png": "[encoded data removed]",
      "text/plain": [
       "<Figure size 720x360 with 1 Axes>"
      ]
     },
     "metadata": {
      "needs_background": "light"
     },
     "output_type": "display_data"
    }
   ],
   "source": [
    "path = \"/project_data/ramanan/shubham/project/code/mmmlX/unimodal/vision/saved_objects/color_class.pkl\"\n",
    "data = load_pickle(path)\n",
    "print(f\"Color, total images : {len(data)}\")\n",
    "class_dict = get_class_counts(data)\n",
    "\n",
    "k = Counter(class_dict)\n",
    "high = k.most_common(12)[2:]\n",
    "print(high)\n",
    "class_names = [elem[0] for elem in high]\n",
    "class_counts = [elem[1] for elem in high]\n",
    "\n",
    "plt.rcParams[\"figure.figsize\"] = (10,5)\n",
    "plt.bar(class_names, class_counts, color = \"lightblue\")"
   ]
  },
  {
   "cell_type": "code",
   "execution_count": 110,
   "id": "76df2220",
   "metadata": {},
   "outputs": [
    {
     "name": "stdout",
     "output_type": "stream",
     "text": [
      "YesNo, total images : 9616\n",
      "{'truck': 616, 'potted plant': 934, 'person': 5409, 'handbag': 718, 'zebra': 12, 'bench': 776, 'chair': 854, 'car': 2166, 'traffic light': 663, 'umbrella': 734, 'stop sign': 93, 'backpack': 630, 'bicycle': 488, 'broccoli': 58, 'bird': 849, 'skateboard': 58, 'frisbee': 50, 'vase': 269, 'motorcycle': 256, 'fire hydrant': 177, 'tv': 247, 'bottle': 257, 'clock': 646, 'elephant': 55, 'cake': 63, 'boat': 467, 'laptop': 44, 'book': 183, 'cell phone': 63, 'dining table': 264, 'baseball bat': 54, 'remote': 25, 'oven': 18, 'surfboard': 70, 'bus': 245, 'train': 197, 'keyboard': 19, 'cup': 151, 'tie': 230, 'bowl': 119, 'sports ball': 188, 'kite': 141, 'toilet': 16, 'bear': 53, 'horse': 208, 'baseball glove': 32, 'giraffe': 7, 'dog': 139, 'fork': 12, 'scissors': 30, 'couch': 24, 'parking meter': 61, 'teddy bear': 141, 'bed': 81, 'suitcase': 149, 'toothbrush': 32, 'mouse': 10, 'sheep': 40, 'banana': 16, 'skis': 34, 'cow': 41, 'wine glass': 37, 'refrigerator': 44, 'pizza': 4, 'apple': 12, 'airplane': 70, 'donut': 15, 'knife': 27, 'spoon': 16, 'cat': 31, 'tennis racket': 24, 'snowboard': 20, 'carrot': 5, 'orange': 9, 'sink': 12, 'microwave': 2, 'sandwich': 1, 'hair drier': 1, 'hot dog': 1}\n",
      "Number of images with no Objects: 1216\n",
      "[('potted plant', 0.09712978369384359), ('chair', 0.08881031613976706), ('bird', 0.08829034941763728), ('bench', 0.08069883527454243), ('umbrella', 0.07633111480865225), ('handbag', 0.07466722129783694), ('traffic light', 0.06894758735440931), ('clock', 0.06717970049916805), ('backpack', 0.06551580698835274), ('truck', 0.06405990016638935)]\n"
     ]
    },
    {
     "data": {
      "text/plain": [
       "<BarContainer object of 10 artists>"
      ]
     },
     "execution_count": 110,
     "metadata": {},
     "output_type": "execute_result"
    },
    {
     "data": {
      "image/png": "[encoded data removed]",
      "text/plain": [
       "<Figure size 720x360 with 1 Axes>"
      ]
     },
     "metadata": {
      "needs_background": "light"
     },
     "output_type": "display_data"
    }
   ],
   "source": [
    "path = \"/project_data/ramanan/shubham/project/code/mmmlX/unimodal/vision/saved_objects/YesNo_class.pkl\"\n",
    "data = load_pickle(path)\n",
    "print(f\"YesNo, total images : {len(data)}\")\n",
    "class_dict = get_class_counts(data)\n",
    "\n",
    "k = Counter(class_dict)\n",
    "high = k.most_common(12)[2:]\n",
    "print(high)\n",
    "class_names = [elem[0] for elem in high]\n",
    "class_counts = [elem[1] for elem in high]\n",
    "\n",
    "plt.rcParams[\"figure.figsize\"] = (10,5)\n",
    "plt.bar(class_names, class_counts, color = \"springgreen\")"
   ]
  },
  {
   "cell_type": "code",
   "execution_count": 111,
   "id": "1a54bcd7",
   "metadata": {},
   "outputs": [
    {
     "name": "stdout",
     "output_type": "stream",
     "text": [
      "Others, total images : 5864\n",
      "{'person': 3475, 'backpack': 385, 'cup': 106, 'potted plant': 565, 'car': 1194, 'chair': 509, 'airplane': 49, 'surfboard': 54, 'tie': 178, 'boat': 230, 'bench': 460, 'bird': 422, 'stop sign': 52, 'motorcycle': 145, 'handbag': 427, 'bowl': 86, 'dining table': 149, 'spoon': 18, 'wine glass': 26, 'bottle': 156, 'horse': 159, 'teddy bear': 119, 'clock': 395, 'sports ball': 141, 'truck': 356, 'cell phone': 45, 'parking meter': 41, 'umbrella': 425, 'tennis racket': 20, 'kite': 90, 'dog': 93, 'baseball bat': 48, 'cake': 46, 'snowboard': 18, 'book': 128, 'traffic light': 379, 'bicycle': 284, 'skateboard': 41, 'suitcase': 91, 'elephant': 44, 'baseball glove': 32, 'sheep': 32, 'bus': 149, 'broccoli': 37, 'fire hydrant': 97, 'tv': 127, 'vase': 169, 'remote': 14, 'sink': 14, 'train': 104, 'giraffe': 10, 'zebra': 7, 'frisbee': 45, 'refrigerator': 27, 'scissors': 15, 'bear': 25, 'donut': 6, 'skis': 45, 'banana': 18, 'cat': 23, 'bed': 46, 'laptop': 19, 'oven': 9, 'cow': 29, 'knife': 11, 'couch': 13, 'toothbrush': 14, 'keyboard': 11, 'toilet': 10, 'fork': 5, 'apple': 4, 'orange': 2, 'carrot': 2, 'microwave': 1, 'pizza': 2, 'hair drier': 1, 'hot dog': 1, 'mouse': 3}\n",
      "Number of images with no Objects: 757\n",
      "[('potted plant', 0.09635061391541609), ('chair', 0.08680081855388813), ('bench', 0.07844474761255116), ('handbag', 0.07281718963165075), ('umbrella', 0.07247612551159618), ('bird', 0.07196452933151433), ('clock', 0.06736016371077763), ('backpack', 0.06565484311050478), ('traffic light', 0.06463165075034107), ('truck', 0.06070941336971351)]\n"
     ]
    },
    {
     "data": {
      "text/plain": [
       "<BarContainer object of 10 artists>"
      ]
     },
     "execution_count": 111,
     "metadata": {},
     "output_type": "execute_result"
    },
    {
     "data": {
      "image/png": "[encoded data removed]",
      "text/plain": [
       "<Figure size 720x360 with 1 Axes>"
      ]
     },
     "metadata": {
      "needs_background": "light"
     },
     "output_type": "display_data"
    }
   ],
   "source": [
    "path = \"/project_data/ramanan/shubham/project/code/mmmlX/unimodal/vision/saved_objects/Others_class.pkl\"\n",
    "data = load_pickle(path)\n",
    "print(f\"Others, total images : {len(data)}\")\n",
    "class_dict = get_class_counts(data)\n",
    "\n",
    "k = Counter(class_dict)\n",
    "high = k.most_common(12)[2:]\n",
    "print(high)\n",
    "class_names = [elem[0] for elem in high]\n",
    "class_counts = [elem[1] for elem in high]\n",
    "plt.rcParams[\"figure.figsize\"] = (10,5)\n",
    "plt.bar(class_names, class_counts, color = \"lightpink\")"
   ]
  },
  {
   "cell_type": "code",
   "execution_count": 112,
   "id": "d7a1bdbb",
   "metadata": {},
   "outputs": [
    {
     "name": "stdout",
     "output_type": "stream",
     "text": [
      "shape, total images : 623\n",
      "{'truck': 47, 'car': 141, 'boat': 36, 'person': 308, 'traffic light': 44, 'handbag': 47, 'kite': 6, 'bench': 69, 'train': 6, 'dining table': 22, 'vase': 18, 'umbrella': 46, 'bicycle': 25, 'potted plant': 81, 'clock': 59, 'backpack': 32, 'cup': 7, 'motorcycle': 22, 'baseball bat': 2, 'cake': 2, 'bird': 46, 'fire hydrant': 12, 'chair': 58, 'tie': 11, 'bed': 4, 'tv': 11, 'bus': 13, 'sheep': 3, 'cow': 2, 'skateboard': 7, 'bottle': 9, 'oven': 1, 'frisbee': 3, 'horse': 10, 'bowl': 10, 'spoon': 4, 'microwave': 1, 'sink': 1, 'teddy bear': 7, 'surfboard': 1, 'suitcase': 14, 'sports ball': 10, 'remote': 2, 'skis': 2, 'parking meter': 8, 'book': 13, 'keyboard': 2, 'stop sign': 8, 'pizza': 1, 'baseball glove': 3, 'broccoli': 6, 'airplane': 1, 'dog': 4, 'donut': 2, 'knife': 3, 'couch': 2, 'cell phone': 1, 'bear': 3, 'laptop': 1, 'refrigerator': 3, 'tennis racket': 2, 'toothbrush': 2, 'fork': 2, 'wine glass': 2, 'elephant': 1}\n",
      "Number of images with no Objects: 99\n",
      "[('potted plant', 0.13001605136436598), ('bench', 0.11075441412520064), ('clock', 0.09470304975922954), ('chair', 0.09309791332263243), ('truck', 0.0754414125200642), ('handbag', 0.0754414125200642), ('umbrella', 0.0738362760834671), ('bird', 0.0738362760834671), ('traffic light', 0.07062600321027288), ('boat', 0.05778491171749599)]\n"
     ]
    },
    {
     "data": {
      "text/plain": [
       "<BarContainer object of 10 artists>"
      ]
     },
     "execution_count": 112,
     "metadata": {},
     "output_type": "execute_result"
    },
    {
     "data": {
      "image/png": "[encoded data removed]",
      "text/plain": [
       "<Figure size 720x360 with 1 Axes>"
      ]
     },
     "metadata": {
      "needs_background": "light"
     },
     "output_type": "display_data"
    }
   ],
   "source": [
    "path = \"/project_data/ramanan/shubham/project/code/mmmlX/unimodal/vision/saved_objects/shape_class.pkl\"\n",
    "data = load_pickle(path)\n",
    "print(f\"shape, total images : {len(data)}\")\n",
    "class_dict = get_class_counts(data)\n",
    "\n",
    "k = Counter(class_dict)\n",
    "high = k.most_common(12)[2:]\n",
    "print(high)\n",
    "class_names = [elem[0] for elem in high]\n",
    "class_counts = [elem[1] for elem in high]\n",
    "plt.rcParams[\"figure.figsize\"] = (10,5)\n",
    "plt.bar(class_names, class_counts, color = \"lightgray\")"
   ]
  },
  {
   "cell_type": "code",
   "execution_count": 113,
   "id": "68f8460b",
   "metadata": {},
   "outputs": [
    {
     "name": "stdout",
     "output_type": "stream",
     "text": [
      "choose, total images : 5730\n",
      "{'teddy bear': 143, 'potted plant': 514, 'car': 1200, 'traffic light': 307, 'truck': 333, 'person': 2394, 'bird': 825, 'dog': 93, 'backpack': 225, 'train': 81, 'chair': 378, 'stop sign': 33, 'motorcycle': 130, 'sheep': 30, 'handbag': 285, 'fire hydrant': 107, 'bicycle': 215, 'tv': 96, 'vase': 169, 'horse': 106, 'elephant': 48, 'bear': 64, 'cell phone': 30, 'parking meter': 43, 'sports ball': 79, 'clock': 278, 'boat': 180, 'bench': 401, 'frisbee': 61, 'tie': 131, 'donut': 22, 'bed': 28, 'bus': 107, 'umbrella': 402, 'oven': 20, 'surfboard': 43, 'cup': 60, 'dining table': 102, 'cake': 54, 'cat': 20, 'baseball glove': 14, 'broccoli': 54, 'kite': 72, 'fork': 7, 'scissors': 15, 'spoon': 10, 'remote': 7, 'book': 89, 'giraffe': 10, 'cow': 32, 'bowl': 55, 'toothbrush': 20, 'skateboard': 35, 'pizza': 1, 'banana': 16, 'suitcase': 60, 'orange': 6, 'baseball bat': 24, 'bottle': 104, 'tennis racket': 9, 'skis': 14, 'wine glass': 15, 'airplane': 37, 'keyboard': 4, 'apple': 6, 'refrigerator': 15, 'laptop': 7, 'couch': 9, 'mouse': 8, 'knife': 16, 'toilet': 9, 'microwave': 1, 'carrot': 1, 'hot dog': 3, 'sink': 8, 'snowboard': 4, 'zebra': 3}\n",
      "Number of images with no Objects: 899\n",
      "[('bird', 0.14397905759162305), ('potted plant', 0.08970331588132635), ('umbrella', 0.07015706806282722), ('bench', 0.0699825479930192), ('chair', 0.06596858638743455), ('truck', 0.0581151832460733), ('traffic light', 0.05357766143106457), ('handbag', 0.049738219895287955), ('clock', 0.04851657940663176), ('backpack', 0.03926701570680628)]\n"
     ]
    },
    {
     "data": {
      "text/plain": [
       "<BarContainer object of 10 artists>"
      ]
     },
     "execution_count": 113,
     "metadata": {},
     "output_type": "execute_result"
    },
    {
     "data": {
      "image/png": "[encoded data removed]",
      "text/plain": [
       "<Figure size 720x360 with 1 Axes>"
      ]
     },
     "metadata": {
      "needs_background": "light"
     },
     "output_type": "display_data"
    }
   ],
   "source": [
    "path = \"/project_data/ramanan/shubham/project/code/mmmlX/unimodal/vision/saved_objects/choose_class.pkl\"\n",
    "data = load_pickle(path)\n",
    "print(f\"choose, total images : {len(data)}\")\n",
    "class_dict = get_class_counts(data)\n",
    "\n",
    "k = Counter(class_dict)\n",
    "high = k.most_common(12)[2:]\n",
    "print(high)\n",
    "class_names = [elem[0] for elem in high]\n",
    "class_counts = [elem[1] for elem in high]\n",
    "plt.rcParams[\"figure.figsize\"] = (10,5)\n",
    "plt.bar(class_names, class_counts, color = \"wheat\")"
   ]
  },
  {
   "cell_type": "code",
   "execution_count": 114,
   "id": "274bcddd",
   "metadata": {},
   "outputs": [
    {
     "name": "stdout",
     "output_type": "stream",
     "text": [
      "number, total images : 2059\n",
      "{'person': 1213, 'potted plant': 256, 'bench': 205, 'fire hydrant': 42, 'bird': 98, 'boat': 87, 'cake': 12, 'umbrella': 134, 'chair': 185, 'backpack': 132, 'baseball bat': 9, 'book': 39, 'clock': 161, 'bicycle': 86, 'car': 484, 'stop sign': 19, 'motorcycle': 56, 'kite': 31, 'handbag': 142, 'snowboard': 9, 'dining table': 47, 'horse': 65, 'truck': 142, 'bus': 40, 'vase': 48, 'teddy bear': 40, 'scissors': 6, 'tie': 66, 'suitcase': 27, 'traffic light': 118, 'remote': 5, 'skateboard': 21, 'bed': 15, 'sink': 6, 'dog': 41, 'sports ball': 34, 'bowl': 16, 'oven': 13, 'refrigerator': 5, 'mouse': 3, 'train': 30, 'tv': 44, 'cup': 20, 'baseball glove': 7, 'cat': 6, 'laptop': 14, 'bottle': 43, 'parking meter': 20, 'cow': 9, 'frisbee': 9, 'sheep': 10, 'knife': 3, 'airplane': 11, 'broccoli': 7, 'elephant': 9, 'toothbrush': 4, 'wine glass': 5, 'bear': 7, 'surfboard': 14, 'banana': 2, 'cell phone': 17, 'fork': 2, 'keyboard': 7, 'tennis racket': 5, 'skis': 5, 'couch': 5, 'toilet': 7, 'donut': 2, 'spoon': 1}\n",
      "Number of images with no Objects: 264\n",
      "[('potted plant', 0.12433220009713453), ('bench', 0.09956289460903352), ('chair', 0.08984944147644487), ('clock', 0.07819329771733852), ('handbag', 0.06896551724137931), ('truck', 0.06896551724137931), ('umbrella', 0.06508013598834386), ('backpack', 0.06410879067508499), ('traffic light', 0.05730937348227295), ('bird', 0.047595920349684316)]\n"
     ]
    },
    {
     "data": {
      "text/plain": [
       "<BarContainer object of 10 artists>"
      ]
     },
     "execution_count": 114,
     "metadata": {},
     "output_type": "execute_result"
    },
    {
     "data": {
      "image/png": "[encoded data removed]",
      "text/plain": [
       "<Figure size 720x360 with 1 Axes>"
      ]
     },
     "metadata": {
      "needs_background": "light"
     },
     "output_type": "display_data"
    }
   ],
   "source": [
    "path = \"/project_data/ramanan/shubham/project/code/mmmlX/unimodal/vision/saved_objects/number_class.pkl\"\n",
    "data = load_pickle(path)\n",
    "print(f\"number, total images : {len(data)}\")\n",
    "class_dict = get_class_counts(data)\n",
    "\n",
    "k = Counter(class_dict)\n",
    "high = k.most_common(12)[2:]\n",
    "print(high)\n",
    "class_names = [elem[0] for elem in high]\n",
    "class_counts = [elem[1] for elem in high]\n",
    "plt.rcParams[\"figure.figsize\"] = (10,5)\n",
    "plt.bar(class_names, class_counts, color = \"lavender\")"
   ]
  },
  {
   "cell_type": "code",
   "execution_count": null,
   "id": "3fc3ace1",
   "metadata": {},
   "outputs": [],
   "source": []
  },
  {
   "cell_type": "code",
   "execution_count": null,
   "id": "9f0ff171",
   "metadata": {},
   "outputs": [],
   "source": []
  }
 ],
 "metadata": {
  "kernelspec": {
   "display_name": "Python 3",
   "language": "python",
   "name": "python3"
  },
  "language_info": {
   "codemirror_mode": {
    "name": "ipython",
    "version": 3
   },
   "file_extension": ".py",
   "mimetype": "text/x-python",
   "name": "python",
   "nbconvert_exporter": "python",
   "pygments_lexer": "ipython3",
   "version": "3.8.5"
  }
 },
 "nbformat": 4,
 "nbformat_minor": 5
}
